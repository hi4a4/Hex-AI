{
 "cells": [
  {
   "cell_type": "code",
   "execution_count": 1,
   "metadata": {},
   "outputs": [],
   "source": [
    "import random\n",
    "\n",
    "import numpy as np\n",
    "import pandas as pd\n",
    "import tensorflow as tf\n",
    "from tensorflow.keras import layers, utils, models\n",
    "\n",
    "from hex import board, player, game\n",
    "import util\n",
    "import move_evaluator\n",
    "import move_generator"
   ]
  },
  {
   "cell_type": "code",
   "execution_count": null,
   "metadata": {},
   "outputs": [],
   "source": [
    "games = pd.read_csv(\"finaldataframe.csv\")"
   ]
  },
  {
   "cell_type": "code",
   "execution_count": null,
   "metadata": {},
   "outputs": [],
   "source": [
    "games_over_2 = games[games[\"move_list\"].str.len() > 4]\n",
    "\n",
    "boards, winners = util.makeInputOutputTotal(games_over_2[\"move_list\"].values[:1000],\n",
    "                                            games_over_2[\"winner\"].values[:1000])"
   ]
  },
  {
   "cell_type": "code",
   "execution_count": null,
   "metadata": {},
   "outputs": [],
   "source": [
    "p1 = player.ModelPlayer(move_generator.SamplingProbabilisticGenerator(10), move_evaluator.TestMoveEvaluator())\n",
    "p2 = player.ModelPlayer(move_generator.ExhaustiveProbabilisticGenerator(), move_evaluator.TestMoveEvaluator())\n",
    "new_moves, new_winners =  util.generate_games(1000, p1, p2)"
   ]
  },
  {
   "cell_type": "code",
   "execution_count": null,
   "metadata": {},
   "outputs": [],
   "source": [
    "model = tf.keras.Sequential([\n",
    "    layers.Conv2D(256, kernel_size=(3, 3),\n",
    "                  activation='relu',\n",
    "                  input_shape=(13, 13, 1)),\n",
    "    layers.Conv2D(256, (3, 3), activation =\"relu\"),\n",
    "    layers.MaxPool2D((2, 2)),\n",
    "    layers.Conv2D(128, (3, 3), activation='relu'),\n",
    "    layers.MaxPool2D((2, 2)),\n",
    "    layers.Flatten(),\n",
    "    layers.Dense(128, activation='relu'),\n",
    "    layers.Dense(2, activation='softmax')])\n",
    "\n",
    "model.compile(loss=tf.keras.losses.categorical_crossentropy,\n",
    "              optimizer=tf.keras.optimizers.Adam(),\n",
    "              metrics=['accuracy'])\n",
    "\n",
    "model.fit(boards.reshape(list(boards.shape) + [1]), winners, epochs=1)\n"
   ]
  },
  {
   "cell_type": "code",
   "execution_count": null,
   "metadata": {},
   "outputs": [],
   "source": [
    "model.save(\"blackwins_model.h5\")"
   ]
  },
  {
   "cell_type": "code",
   "execution_count": 2,
   "metadata": {},
   "outputs": [],
   "source": [
    "model = models.load_model(\"blackwins_model.h5\")"
   ]
  },
  {
   "cell_type": "code",
   "execution_count": 5,
   "metadata": {},
   "outputs": [],
   "source": [
    "p1 = player.ModelPlayer(move_generator.SamplingGenerator(10), move_evaluator.BlackWinMoveEvaluator(model))\n",
    "p2 = player.ModelPlayer(move_generator.SamplingGenerator(10), move_evaluator.BlackWinMoveEvaluator(model))\n",
    "new_moves, new_winners = util.generate_games(50, p1, p2)"
   ]
  },
  {
   "cell_type": "code",
   "execution_count": 4,
   "metadata": {},
   "outputs": [
    {
     "data": {
      "text/plain": [
       "('black', 'black')"
      ]
     },
     "execution_count": 4,
     "metadata": {},
     "output_type": "execute_result"
    }
   ],
   "source": [
    "new_winners"
   ]
  },
  {
   "cell_type": "code",
   "execution_count": 6,
   "metadata": {},
   "outputs": [
    {
     "data": {
      "text/plain": [
       "27"
      ]
     },
     "execution_count": 6,
     "metadata": {},
     "output_type": "execute_result"
    }
   ],
   "source": [
    "wins = pd.Series(new_winners)\n",
    "len(wins[wins == \"black\"])"
   ]
  },
  {
   "cell_type": "code",
   "execution_count": null,
   "metadata": {},
   "outputs": [],
   "source": [
    "new_boards, new_winners = util.makeInputOutputTotal(new_moves, new_winners, scraped=False)"
   ]
  }
 ],
 "metadata": {
  "kernelspec": {
   "display_name": "Python 3",
   "language": "python",
   "name": "python3"
  },
  "language_info": {
   "codemirror_mode": {
    "name": "ipython",
    "version": 3
   },
   "file_extension": ".py",
   "mimetype": "text/x-python",
   "name": "python",
   "nbconvert_exporter": "python",
   "pygments_lexer": "ipython3",
   "version": "3.6.5"
  }
 },
 "nbformat": 4,
 "nbformat_minor": 2
}
