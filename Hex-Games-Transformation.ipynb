{
 "cells": [
  {
   "cell_type": "code",
   "execution_count": 1,
   "metadata": {},
   "outputs": [],
   "source": [
    "import pandas as pd\n",
    "from hex import *\n",
    "import re\n",
    "import numpy as np"
   ]
  },
  {
   "cell_type": "code",
   "execution_count": 2,
   "metadata": {},
   "outputs": [],
   "source": [
    "data = pd.read_csv('finaldataframe.csv', index_col=0)"
   ]
  },
  {
   "cell_type": "code",
   "execution_count": 3,
   "metadata": {},
   "outputs": [
    {
     "data": {
      "text/html": [
       "<div>\n",
       "<style scoped>\n",
       "    .dataframe tbody tr th:only-of-type {\n",
       "        vertical-align: middle;\n",
       "    }\n",
       "\n",
       "    .dataframe tbody tr th {\n",
       "        vertical-align: top;\n",
       "    }\n",
       "\n",
       "    .dataframe thead th {\n",
       "        text-align: right;\n",
       "    }\n",
       "</style>\n",
       "<table border=\"1\" class=\"dataframe\">\n",
       "  <thead>\n",
       "    <tr style=\"text-align: right;\">\n",
       "      <th></th>\n",
       "      <th>gid</th>\n",
       "      <th>black</th>\n",
       "      <th>white</th>\n",
       "      <th>black_rating</th>\n",
       "      <th>white_rating</th>\n",
       "      <th>move_list</th>\n",
       "      <th>winner</th>\n",
       "    </tr>\n",
       "  </thead>\n",
       "  <tbody>\n",
       "    <tr>\n",
       "      <th>0</th>\n",
       "      <td>1939599</td>\n",
       "      <td>fastplayer</td>\n",
       "      <td>Maciej Celuch</td>\n",
       "      <td>1806</td>\n",
       "      <td>2688</td>\n",
       "      <td>g3*e9i10f7d12b12c11d11c12f11g12e12g5j4h7c9h3f5...</td>\n",
       "      <td>white</td>\n",
       "    </tr>\n",
       "    <tr>\n",
       "      <th>1</th>\n",
       "      <td>1938419</td>\n",
       "      <td>MoHex3H</td>\n",
       "      <td>Maciej Celuch</td>\n",
       "      <td>1500</td>\n",
       "      <td>2688</td>\n",
       "      <td>h12e4f4i5h6e9i7i6h7g5k5k4j4j5h5i3i4k2j2j3f7e6h...</td>\n",
       "      <td>white</td>\n",
       "    </tr>\n",
       "    <tr>\n",
       "      <th>2</th>\n",
       "      <td>1938296</td>\n",
       "      <td>fastplayer</td>\n",
       "      <td>Maciej Celuch</td>\n",
       "      <td>1806</td>\n",
       "      <td>2688</td>\n",
       "      <td>g7*f7d10i8j11f8g6i5h4j3j4i4g8j6j5e10f11i6h9g10...</td>\n",
       "      <td>white</td>\n",
       "    </tr>\n",
       "    <tr>\n",
       "      <th>3</th>\n",
       "      <td>1938295</td>\n",
       "      <td>Jose Maria Grau Ribas</td>\n",
       "      <td>Maciej Celuch</td>\n",
       "      <td>2083</td>\n",
       "      <td>2688</td>\n",
       "      <td>a4*c3i10f8j2k10k11i3e6g6f10e10f9e9d12e11e12f11...</td>\n",
       "      <td>white</td>\n",
       "    </tr>\n",
       "    <tr>\n",
       "      <th>4</th>\n",
       "      <td>1938291</td>\n",
       "      <td>MoHex3H</td>\n",
       "      <td>Maciej Celuch</td>\n",
       "      <td>1500</td>\n",
       "      <td>2688</td>\n",
       "      <td>g7*e8e4c5f6j5i10h9g11g6f9h11h10d10d9c8b12f10g9...</td>\n",
       "      <td>white</td>\n",
       "    </tr>\n",
       "    <tr>\n",
       "      <th>5</th>\n",
       "      <td>1909790</td>\n",
       "      <td>Maciej Celuch</td>\n",
       "      <td>Yorge</td>\n",
       "      <td>2688</td>\n",
       "      <td>1520</td>\n",
       "      <td>h3*d5d3j9h6j4j11e9f8k6g11d8</td>\n",
       "      <td>black</td>\n",
       "    </tr>\n",
       "    <tr>\n",
       "      <th>6</th>\n",
       "      <td>1877598</td>\n",
       "      <td>zastrzyk</td>\n",
       "      <td>Maciej Celuch</td>\n",
       "      <td>1751</td>\n",
       "      <td>2688</td>\n",
       "      <td>a8*i5i10k10k11e9c11g10f8e6f9h8h9g9h7</td>\n",
       "      <td>white</td>\n",
       "    </tr>\n",
       "    <tr>\n",
       "      <th>7</th>\n",
       "      <td>1877596</td>\n",
       "      <td>Maciej Celuch</td>\n",
       "      <td>Peter Koning</td>\n",
       "      <td>2688</td>\n",
       "      <td>1694</td>\n",
       "      <td>a3</td>\n",
       "      <td>black</td>\n",
       "    </tr>\n",
       "    <tr>\n",
       "      <th>8</th>\n",
       "      <td>1877594</td>\n",
       "      <td>Daniel Sepczuk</td>\n",
       "      <td>Maciej Celuch</td>\n",
       "      <td>2386</td>\n",
       "      <td>2688</td>\n",
       "      <td>c12e4i5j4d5e9e5d3b3d4b6b4i4h8j9h7f7e10</td>\n",
       "      <td>white</td>\n",
       "    </tr>\n",
       "    <tr>\n",
       "      <th>9</th>\n",
       "      <td>1877591</td>\n",
       "      <td>Maciej Celuch</td>\n",
       "      <td>Szymon D</td>\n",
       "      <td>2688</td>\n",
       "      <td>1531</td>\n",
       "      <td>m4</td>\n",
       "      <td>black</td>\n",
       "    </tr>\n",
       "  </tbody>\n",
       "</table>\n",
       "</div>"
      ],
      "text/plain": [
       "       gid                  black          white  black_rating  white_rating  \\\n",
       "0  1939599             fastplayer  Maciej Celuch          1806          2688   \n",
       "1  1938419                MoHex3H  Maciej Celuch          1500          2688   \n",
       "2  1938296             fastplayer  Maciej Celuch          1806          2688   \n",
       "3  1938295  Jose Maria Grau Ribas  Maciej Celuch          2083          2688   \n",
       "4  1938291                MoHex3H  Maciej Celuch          1500          2688   \n",
       "5  1909790          Maciej Celuch          Yorge          2688          1520   \n",
       "6  1877598               zastrzyk  Maciej Celuch          1751          2688   \n",
       "7  1877596          Maciej Celuch   Peter Koning          2688          1694   \n",
       "8  1877594         Daniel Sepczuk  Maciej Celuch          2386          2688   \n",
       "9  1877591          Maciej Celuch       Szymon D          2688          1531   \n",
       "\n",
       "                                           move_list winner  \n",
       "0  g3*e9i10f7d12b12c11d11c12f11g12e12g5j4h7c9h3f5...  white  \n",
       "1  h12e4f4i5h6e9i7i6h7g5k5k4j4j5h5i3i4k2j2j3f7e6h...  white  \n",
       "2  g7*f7d10i8j11f8g6i5h4j3j4i4g8j6j5e10f11i6h9g10...  white  \n",
       "3  a4*c3i10f8j2k10k11i3e6g6f10e10f9e9d12e11e12f11...  white  \n",
       "4  g7*e8e4c5f6j5i10h9g11g6f9h11h10d10d9c8b12f10g9...  white  \n",
       "5                        h3*d5d3j9h6j4j11e9f8k6g11d8  black  \n",
       "6               a8*i5i10k10k11e9c11g10f8e6f9h8h9g9h7  white  \n",
       "7                                                 a3  black  \n",
       "8             c12e4i5j4d5e9e5d3b3d4b6b4i4h8j9h7f7e10  white  \n",
       "9                                                 m4  black  "
      ]
     },
     "execution_count": 3,
     "metadata": {},
     "output_type": "execute_result"
    }
   ],
   "source": [
    "data.head(10)"
   ]
  },
  {
   "cell_type": "code",
   "execution_count": 6,
   "metadata": {},
   "outputs": [],
   "source": [
    "def getBoard(board):    \n",
    "   return np.take(board.state[1:14], range(1,14), axis=1)"
   ]
  },
  {
   "cell_type": "code",
   "execution_count": 11,
   "metadata": {},
   "outputs": [],
   "source": [
    "def makeInputOutput(moveList, scraped, winner):\n",
    "    '''\n",
    "    moveList - string representing all move in a game\n",
    "    scraped - True - this movelist was scraped False - a movelist from a hex game\n",
    "    winner - string - white or black\n",
    "    '''\n",
    "    outputWinner = [1,0]\n",
    "    if (winner == 'white'):\n",
    "        outputWinner = [0,1]\n",
    "    inputBoard = []\n",
    "    outputWin = []\n",
    "    if scraped:\n",
    "        splitOn = r\"([a-z]+)([0-9]+)\"\n",
    "    else:\n",
    "        splitOn = r\"([0-9]+)([a-z]+)\"\n",
    "    black = True\n",
    "    tempBoard = Board()\n",
    "    moves = re.findall(splitOn, moveList)\n",
    "    for index, move in enumerate(moves):\n",
    "        inputBoard.append(getBoard(tempBoard))\n",
    "        #D sun stores number then letter\n",
    "        if scraped:\n",
    "          move = move[::-1]\n",
    "        # move is in form (number, letter)\n",
    "        # Change letter to integer\n",
    "        letterToNumber = tempBoard.col_to_number[move[1]]\n",
    "        # Cast string number to integer\n",
    "        move = (int(move[0]), letterToNumber)\n",
    "        # If * mirror the move set the first player to white\n",
    "        if '*' in moveList and index==0:\n",
    "            #mirror the first move\n",
    "            black = not(black)\n",
    "            move = (move[1], move[0])\n",
    "        #Out of 13*13= 169 possible board squares\n",
    "        moveIntegerized = 13*(int(move[1])-1) + move[0]\n",
    "        # Store which square the piece went\n",
    "        outputWin.append(outputWinner)\n",
    "        # Append piece to the board 1 is black 2 is white\n",
    "        tempBoard.addPiece(move, 1 if black else 2)\n",
    "        black = not(black)\n",
    "            \n",
    "    return inputBoard, outputWin\n",
    "    \n",
    "        "
   ]
  },
  {
   "cell_type": "code",
   "execution_count": 15,
   "metadata": {},
   "outputs": [],
   "source": [
    "# inputBoard - list of np arrays each representing a current state of the game board\n",
    "# outputMove - list of moves - each move is a tuple (row, column) \n",
    "winner = data.iloc[0]['winner']\n",
    "moveList = data.iloc[0]['move_list']\n",
    "inputBoard, outputWinner = makeInputOutput(moveList, True, winner)"
   ]
  },
  {
   "cell_type": "code",
   "execution_count": 16,
   "metadata": {},
   "outputs": [
    {
     "data": {
      "text/plain": [
       "array([[0, 0, 0, 0, 0, 0, 0, 0, 0, 0, 0, 0, 0],\n",
       "       [0, 0, 0, 0, 0, 0, 0, 0, 0, 0, 0, 0, 0],\n",
       "       [0, 0, 0, 0, 0, 0, 0, 0, 0, 0, 0, 0, 0],\n",
       "       [0, 0, 0, 0, 0, 0, 0, 0, 0, 0, 0, 0, 0],\n",
       "       [0, 0, 0, 0, 0, 0, 0, 0, 0, 0, 0, 0, 0],\n",
       "       [0, 0, 0, 0, 0, 0, 0, 0, 0, 0, 0, 0, 0],\n",
       "       [0, 0, 0, 0, 0, 0, 0, 0, 0, 0, 0, 0, 0],\n",
       "       [0, 0, 0, 0, 0, 0, 0, 0, 0, 0, 0, 0, 0],\n",
       "       [0, 0, 0, 0, 0, 0, 0, 0, 0, 0, 0, 0, 0],\n",
       "       [0, 0, 0, 0, 0, 0, 0, 0, 0, 0, 0, 0, 0],\n",
       "       [0, 0, 0, 0, 0, 0, 0, 0, 0, 0, 0, 0, 0],\n",
       "       [0, 0, 0, 0, 0, 0, 0, 0, 0, 0, 0, 0, 0],\n",
       "       [0, 0, 0, 0, 0, 0, 0, 0, 0, 0, 0, 0, 0]], dtype=int8)"
      ]
     },
     "execution_count": 16,
     "metadata": {},
     "output_type": "execute_result"
    }
   ],
   "source": [
    "inputBoard[0]"
   ]
  },
  {
   "cell_type": "code",
   "execution_count": 18,
   "metadata": {},
   "outputs": [
    {
     "data": {
      "text/plain": [
       "[0, 1]"
      ]
     },
     "execution_count": 18,
     "metadata": {},
     "output_type": "execute_result"
    }
   ],
   "source": [
    "outputWinner[0]"
   ]
  },
  {
   "cell_type": "code",
   "execution_count": null,
   "metadata": {},
   "outputs": [],
   "source": []
  }
 ],
 "metadata": {
  "kernelspec": {
   "display_name": "Python 3",
   "language": "python",
   "name": "python3"
  },
  "language_info": {
   "codemirror_mode": {
    "name": "ipython",
    "version": 3
   },
   "file_extension": ".py",
   "mimetype": "text/x-python",
   "name": "python",
   "nbconvert_exporter": "python",
   "pygments_lexer": "ipython3",
   "version": "3.6.5"
  }
 },
 "nbformat": 4,
 "nbformat_minor": 2
}
