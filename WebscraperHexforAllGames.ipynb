{
 "cells": [
  {
   "cell_type": "markdown",
   "metadata": {},
   "source": [
    "# Imports"
   ]
  },
  {
   "cell_type": "code",
   "execution_count": 2,
   "metadata": {},
   "outputs": [],
   "source": [
    "from requests import get\n",
    "from requests.exceptions import RequestException\n",
    "from contextlib import closing\n",
    "from bs4 import BeautifulSoup\n",
    "import csv\n",
    "import pandas as pd"
   ]
  },
  {
   "cell_type": "markdown",
   "metadata": {},
   "source": [
    "# Web Requests"
   ]
  },
  {
   "cell_type": "code",
   "execution_count": null,
   "metadata": {},
   "outputs": [],
   "source": [
    "def simple_get(url):\n",
    "    \"\"\"\n",
    "    Attempts to get the content at `url` by making an HTTP GET request.\n",
    "    If the content-type of response is some kind of HTML/XML, return the\n",
    "    text content, otherwise return None.\n",
    "    \"\"\"\n",
    "    try:\n",
    "        with closing(get(url, stream=True)) as resp:\n",
    "            if is_good_response(resp):\n",
    "                return resp.content\n",
    "            else:\n",
    "                return None\n",
    "\n",
    "    except RequestException as e:\n",
    "        log_error('Error during requests to {0} : {1}'.format(url, str(e)))\n",
    "        return None\n",
    "\n",
    "\n",
    "def is_good_response(resp):\n",
    "    \"\"\"\n",
    "    Returns True if the response seems to be HTML, False otherwise.\n",
    "    \"\"\"\n",
    "    content_type = resp.headers['Content-Type'].lower()\n",
    "    return (resp.status_code == 200 \n",
    "            and content_type is not None \n",
    "            and content_type.find('html') > -1)\n",
    "\n",
    "\n",
    "def log_error(e):\n",
    "    \"\"\"\n",
    "    It is always a good idea to log errors. \n",
    "    This function just prints them, but you can\n",
    "    make it do anything.\n",
    "    \"\"\"\n",
    "    print(e)"
   ]
  },
  {
   "cell_type": "markdown",
   "metadata": {},
   "source": [
    "# Get a user's list of games"
   ]
  },
  {
   "cell_type": "code",
   "execution_count": 3,
   "metadata": {},
   "outputs": [],
   "source": [
    "def getGamesPlayedForUser(userPageURL):\n",
    "    html_res = BeautifulSoup(\n",
    "        simple_get(userPageURL),\n",
    "        'html.parser'\n",
    "    )\n",
    "    listOfGameIds = []\n",
    "    for link in html_res.select('a'):\n",
    "      if ('href' in link.attrs and '/jsp/game/game' in link['href']):\n",
    "        listOfGameIds.append(link.text[1:])\n",
    "    return listOfGameIds"
   ]
  },
  {
   "cell_type": "markdown",
   "metadata": {},
   "source": [
    "# Get Information For A Single Game ID"
   ]
  },
  {
   "cell_type": "code",
   "execution_count": 4,
   "metadata": {},
   "outputs": [],
   "source": [
    "def getGameInfo(gameID):\n",
    "    '''\n",
    "    Input (string): game id ex 2002849\n",
    "    Output (list): gid,black,white,black_rating,white_rating,move_list,winner\n",
    "    '''\n",
    "    # List to be returned\n",
    "    returnArray = []\n",
    "    # Append gameID\n",
    "    returnArray.append(gameID)\n",
    "    # Request game html\n",
    "    html_res = BeautifulSoup(\n",
    "        simple_get('http://littlegolem.net/jsp/game/game.jsp?gid='+gameID),\n",
    "        'html.parser'\n",
    "    )\n",
    "    # Dummy variables\n",
    "    count = 0\n",
    "    winner = ''\n",
    "    moveString = ''\n",
    "    # Get list of moves\n",
    "    \n",
    "    for gametype in html_res.select('h3'):\n",
    "        a = list(gametype)[0]\n",
    "        if a != '\\r\\n\\t\\t\\tHex-Size 13\\r\\n\\t\\t\\t:: #'+str(gameID)+'\\r\\n\\t\\t\\t':\n",
    "            return []\n",
    "    \n",
    "    for div in html_res.select('div'):\n",
    "        if('portlet-body' in div['class']):\n",
    "          count += 1\n",
    "          if (count > 3):\n",
    "            moveList = div.text.split()\n",
    "    # Loop through moves making move_list and keep track of winner\n",
    "    count = 0\n",
    "    for move in moveList:\n",
    "        count+=1\n",
    "        moveText = move.split('.')[-1]\n",
    "        if (moveText == \"swap\"):\n",
    "            moveText = '*'\n",
    "        if (moveText == 'resign'):\n",
    "            count+=1\n",
    "            break\n",
    "        moveString = moveString + moveText\n",
    "    # Decide which is winner based on number of moves\n",
    "    winner = 'white' if (count)%2 == 0 else 'black'\n",
    "    # Dummy rank because want to store both names next to each other\n",
    "    pastRank = ''\n",
    "    # Find name and rank info\n",
    "    for div in html_res.select('div'):\n",
    "        if ('col-xs-6' in div['class']):\n",
    "            playerInfo = div.text.split('\\n')\n",
    "            playerName = playerInfo[1]\n",
    "            playerInfo = div.text.split()\n",
    "            playerRank = playerInfo[-1]\n",
    "            returnArray.append(playerName)\n",
    "            if pastRank != '':\n",
    "                 returnArray.append(pastRank)\n",
    "            pastRank = playerRank\n",
    "    # Append all info\n",
    "    returnArray.append(pastRank)\n",
    "    returnArray.append(moveString)\n",
    "    returnArray.append(winner)\n",
    "    return returnArray"
   ]
  },
  {
   "cell_type": "markdown",
   "metadata": {},
   "source": [
    "# Go through all Hex-13 Users on Little Golem"
   ]
  },
  {
   "cell_type": "code",
   "execution_count": null,
   "metadata": {},
   "outputs": [],
   "source": [
    "finalcsvlist = []\n",
    "\n",
    "#with all \n",
    "for i in list(range(1,24)):\n",
    "    playerids = []\n",
    "    listofgameplays = []\n",
    "    \n",
    "    #finds certain html on little golem with players listed\n",
    "    currenthtml = \"http://littlegolem.net/jsp/info/player_list.jsp?gtvar=hex_DEFAULT&filter=&countryid=&page=\"+str(i)\n",
    "    html_res = BeautifulSoup(\n",
    "        simple_get(currenthtml),'html.parser')\n",
    "    \n",
    "    tdvals = list(html_res.select('td'))\n",
    "    \n",
    "    #pulls all player ids\n",
    "    for j in range(4, 62, 3):\n",
    "        pidstart = str(tdvals[j])\n",
    "        head, sep, tail = pidstart.partition('plid=')\n",
    "        head, sep, tail = tail.partition('\"')\n",
    "        playerids.append(head)\n",
    "    \n",
    "    #goes through each player\n",
    "    for k in playerids:\n",
    "        #gets each players list of games\n",
    "        print(k)\n",
    "        listOfGameIds = getGamesPlayedForUser('http://littlegolem.net/jsp/info/player_game_list.jsp?gtid=hex&plid='+k)\n",
    "        \n",
    "        #gets each games plays in correct format\n",
    "        for l in listOfGameIds:\n",
    "            pinfo = getGameInfo(l)\n",
    "            if len(pinfo) == 7:\n",
    "                if pinfo[5] != \"\":\n",
    "                    listofgameplays.append(pinfo)\n",
    "    \n",
    "    #csv name\n",
    "    title = \"output\" + str(i) + \".csv\"\n",
    "    \n",
    "    #writes one page worth of players game info out\n",
    "    with open(title, 'w', newline=\"\") as f:\n",
    "        writer = csv.writer(f)\n",
    "        writer.writerow([\"gid\",\"black\",\"white\",\"black_rating\",\"white_rating\",\"move_list\",\"winner\"])\n",
    "        writer.writerows(listofgameplays)\n",
    "        finalcsvlist.append(title)"
   ]
  },
  {
   "cell_type": "code",
   "execution_count": null,
   "metadata": {},
   "outputs": [],
   "source": [
    "import pandas as pd\n",
    "\n",
    "data = []\n",
    "for csv in finalcsvlist:\n",
    "    frame = pd.read_csv(csv)\n",
    "    if frame.shape[1] > 7:\n",
    "        frame = frame.drop(frame.columns[[0]], axis=1)\n",
    "    data.append(frame)\n",
    "\n",
    "bigframe = pd.concat(data, ignore_index=True)\n",
    "bigframe = bigframe.drop_duplicates(subset='gid', keep='first', inplace=False)\n",
    "bigframe.to_csv(\"bigboi.csv\")"
   ]
  }
 ],
 "metadata": {
  "kernelspec": {
   "display_name": "Python 3",
   "language": "python",
   "name": "python3"
  },
  "language_info": {
   "codemirror_mode": {
    "name": "ipython",
    "version": 3
   },
   "file_extension": ".py",
   "mimetype": "text/x-python",
   "name": "python",
   "nbconvert_exporter": "python",
   "pygments_lexer": "ipython3",
   "version": "3.6.5"
  }
 },
 "nbformat": 4,
 "nbformat_minor": 2
}
