{
 "cells": [
  {
   "cell_type": "code",
   "execution_count": null,
   "metadata": {},
   "outputs": [],
   "source": [
    "import random\n",
    "import sys\n",
    "\n",
    "\n",
    "import numpy as np\n",
    "import pandas as pd\n",
    "import tensorflow as tf\n",
    "from tensorflow.keras import layers, utils, models\n",
    "from hex import player, game, board\n",
    "import util\n",
    "import move_evaluator\n",
    "import move_generator"
   ]
  },
  {
   "cell_type": "code",
   "execution_count": null,
   "metadata": {},
   "outputs": [],
   "source": [
    "games = pd.read_csv(\"/home/jovyan/data400_share/share/hex_scrapes/joineddata.csv\")"
   ]
  },
  {
   "cell_type": "code",
   "execution_count": null,
   "metadata": {},
   "outputs": [],
   "source": [
    "model = tf.keras.Sequential([\n",
    "    layers.Conv2D(128, kernel_size=(3, 3),\n",
    "                  activation='relu',\n",
    "                  input_shape=(17, 17, 2),\n",
    "                  padding=\"same\"\n",
    "                 ),\n",
    "    layers.MaxPool2D((2, 2)),\n",
    "    layers.Dropout(0.5),\n",
    "    layers.Conv2D(128, (3, 3), activation =\"relu\", padding=\"same\"),\n",
    "    layers.MaxPool2D((2, 2)),\n",
    "    layers.Flatten(),\n",
    "    layers.Dropout(0.5),\n",
    "    layers.Dense(128, activation='relu'),\n",
    "    layers.Dense(2, activation='softmax')])\n",
    "\n",
    "model.compile(loss=tf.keras.losses.categorical_crossentropy,\n",
    "              optimizer=tf.keras.optimizers.Adam(),\n",
    "              metrics=['accuracy'])"
   ]
  },
  {
   "cell_type": "code",
   "execution_count": null,
   "metadata": {},
   "outputs": [],
   "source": [
    "# training takes awhile so here is the model pretrained\n",
    "model = models.load_model(\"best_so_far_dropout.h5\")\n"
   ]
  },
  {
   "cell_type": "code",
   "execution_count": null,
   "metadata": {},
   "outputs": [],
   "source": [
    "p1 = player.ModelPlayer(move_generator.ExhaustiveGenerator(), move_evaluator.SimpleMoveEvaluator(model))\n",
    "p2 = player.RandomPlayer()\n",
    "new_moves, new_winners = util.generate_games(100, p1, p2)\n",
    "\n",
    "new_winners = pd.Series(new_winners)\n",
    "len(new_winners[new_winners == \"black\"]) / len(new_winners)"
   ]
  },
  {
   "cell_type": "code",
   "execution_count": null,
   "metadata": {},
   "outputs": [],
   "source": [
    "p2 = player.ModelPlayer(move_generator.ExhaustiveGenerator(), move_evaluator.SimpleMoveEvaluator(model))\n",
    "p1 = player.RandomPlayer()\n",
    "new_moves, new_winners = util.generate_games(100, p1, p2)\n",
    "\n",
    "new_winners = pd.Series(new_winners)\n",
    "len(new_winners[new_winners == \"black\"]) / len(new_winners)"
   ]
  }
 ],
 "metadata": {
  "kernelspec": {
   "display_name": "Python 3",
   "language": "python",
   "name": "python3"
  },
  "language_info": {
   "codemirror_mode": {
    "name": "ipython",
    "version": 3
   },
   "file_extension": ".py",
   "mimetype": "text/x-python",
   "name": "python",
   "nbconvert_exporter": "python",
   "pygments_lexer": "ipython3",
   "version": "3.6.5"
  }
 },
 "nbformat": 4,
 "nbformat_minor": 2
}
