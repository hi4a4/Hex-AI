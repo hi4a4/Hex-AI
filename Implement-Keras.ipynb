{
 "cells": [
  {
   "cell_type": "code",
   "execution_count": 1,
   "metadata": {},
   "outputs": [
    {
     "name": "stderr",
     "output_type": "stream",
     "text": [
      "/home/none/anaconda3/lib/python3.6/site-packages/h5py/__init__.py:36: FutureWarning: Conversion of the second argument of issubdtype from `float` to `np.floating` is deprecated. In future, it will be treated as `np.float64 == np.dtype(float).type`.\n",
      "  from ._conv import register_converters as _register_converters\n",
      "Using TensorFlow backend.\n"
     ]
    }
   ],
   "source": [
    "from glob import glob\n",
    "\n",
    "from hex import *\n",
    "\n",
    "import re\n",
    "import numpy as np\n",
    "import pandas as pd\n",
    "\n",
    "import tensorflow as tf\n",
    "from tensorflow.keras import layers, utils\n",
    "from keras import regularizers"
   ]
  },
  {
   "cell_type": "code",
   "execution_count": 2,
   "metadata": {},
   "outputs": [],
   "source": [
    "def getBoard(board):    \n",
    "   return np.take(board.state[1:14], range(1,14), axis=1)"
   ]
  },
  {
   "cell_type": "code",
   "execution_count": 3,
   "metadata": {},
   "outputs": [],
   "source": [
    "def makeInputOutput(moveList, winner, scraped):\n",
    "    '''\n",
    "    moveList - string representing all move in a game\n",
    "    scraped - True - this movelist was scraped False - a movelist from a hex game\n",
    "    winner - string - white or black\n",
    "    '''\n",
    "    outputWinner = [1,0]\n",
    "    if (winner == 'white'):\n",
    "        outputWinner = [0,1]\n",
    "    inputBoard = []\n",
    "    outputWin = []\n",
    "    if scraped:\n",
    "        splitOn = r\"([a-z]+)([0-9]+)\"\n",
    "    else:\n",
    "        splitOn = r\"([0-9]+)([a-z]+)\"\n",
    "    black = True\n",
    "    tempBoard = Board()\n",
    "    moves = re.findall(splitOn, moveList)\n",
    "    for index, move in enumerate(moves):\n",
    "        inputBoard.append(getBoard(tempBoard))\n",
    "        #D sun stores number then letter\n",
    "        if scraped:\n",
    "          move = move[::-1]\n",
    "        # move is in form (number, letter)\n",
    "        # Change letter to integer\n",
    "        letterToNumber = tempBoard.col_to_number[move[1]]\n",
    "        # Cast string number to integer\n",
    "        move = (int(move[0]), letterToNumber)\n",
    "        # If * mirror the move set the first player to white\n",
    "        if '*' in moveList and index==0:\n",
    "            #mirror the first move\n",
    "            black = not(black)\n",
    "            move = (move[1], move[0])\n",
    "        #Out of 13*13= 169 possible board squares\n",
    "        moveIntegerized = 13*(int(move[1])-1) + move[0]\n",
    "        # Store which square the piece went\n",
    "        outputWin.append(outputWinner)\n",
    "        # Append piece to the board 1 is black 2 is white\n",
    "        tempBoard.addPiece(move, 1 if black else 2)\n",
    "        black = not(black)\n",
    "            \n",
    "    return inputBoard[1:], outputWin[1:]"
   ]
  },
  {
   "cell_type": "code",
   "execution_count": 4,
   "metadata": {},
   "outputs": [],
   "source": [
    "data = pd.read_csv('finaldataframe.csv', index_col=0)"
   ]
  },
  {
   "cell_type": "code",
   "execution_count": 5,
   "metadata": {},
   "outputs": [],
   "source": [
    "def makeInputOutputTotal(moveLists, winners, scraped=True):\n",
    "    total = map(lambda args: makeInputOutput(args[0], args[1], args[2]),\n",
    "                filter(lambda args: len(args[1])<12,zip(moveLists, winners, [scraped]*len(winners))))\n",
    "    board_states_cumulative, winners_cumulative = zip(*total)\n",
    "    board_states_cumulative = [val for sublist in board_states_cumulative for val in sublist]\n",
    "    winners_cumulative = [val for sublist in winners_cumulative for val in sublist]\n",
    "    return (board_states_cumulative,\n",
    "            winners_cumulative)\n",
    "    "
   ]
  },
  {
   "cell_type": "code",
   "execution_count": 6,
   "metadata": {},
   "outputs": [
    {
     "data": {
      "text/html": [
       "<div>\n",
       "<style scoped>\n",
       "    .dataframe tbody tr th:only-of-type {\n",
       "        vertical-align: middle;\n",
       "    }\n",
       "\n",
       "    .dataframe tbody tr th {\n",
       "        vertical-align: top;\n",
       "    }\n",
       "\n",
       "    .dataframe thead th {\n",
       "        text-align: right;\n",
       "    }\n",
       "</style>\n",
       "<table border=\"1\" class=\"dataframe\">\n",
       "  <thead>\n",
       "    <tr style=\"text-align: right;\">\n",
       "      <th></th>\n",
       "      <th>gid</th>\n",
       "      <th>black</th>\n",
       "      <th>white</th>\n",
       "      <th>black_rating</th>\n",
       "      <th>white_rating</th>\n",
       "      <th>move_list</th>\n",
       "      <th>winner</th>\n",
       "    </tr>\n",
       "  </thead>\n",
       "  <tbody>\n",
       "    <tr>\n",
       "      <th>0</th>\n",
       "      <td>1939599</td>\n",
       "      <td>fastplayer</td>\n",
       "      <td>Maciej Celuch</td>\n",
       "      <td>1806</td>\n",
       "      <td>2688</td>\n",
       "      <td>g3*e9i10f7d12b12c11d11c12f11g12e12g5j4h7c9h3f5...</td>\n",
       "      <td>white</td>\n",
       "    </tr>\n",
       "    <tr>\n",
       "      <th>1</th>\n",
       "      <td>1938419</td>\n",
       "      <td>MoHex3H</td>\n",
       "      <td>Maciej Celuch</td>\n",
       "      <td>1500</td>\n",
       "      <td>2688</td>\n",
       "      <td>h12e4f4i5h6e9i7i6h7g5k5k4j4j5h5i3i4k2j2j3f7e6h...</td>\n",
       "      <td>white</td>\n",
       "    </tr>\n",
       "    <tr>\n",
       "      <th>2</th>\n",
       "      <td>1938296</td>\n",
       "      <td>fastplayer</td>\n",
       "      <td>Maciej Celuch</td>\n",
       "      <td>1806</td>\n",
       "      <td>2688</td>\n",
       "      <td>g7*f7d10i8j11f8g6i5h4j3j4i4g8j6j5e10f11i6h9g10...</td>\n",
       "      <td>white</td>\n",
       "    </tr>\n",
       "    <tr>\n",
       "      <th>3</th>\n",
       "      <td>1938295</td>\n",
       "      <td>Jose Maria Grau Ribas</td>\n",
       "      <td>Maciej Celuch</td>\n",
       "      <td>2083</td>\n",
       "      <td>2688</td>\n",
       "      <td>a4*c3i10f8j2k10k11i3e6g6f10e10f9e9d12e11e12f11...</td>\n",
       "      <td>white</td>\n",
       "    </tr>\n",
       "    <tr>\n",
       "      <th>4</th>\n",
       "      <td>1938291</td>\n",
       "      <td>MoHex3H</td>\n",
       "      <td>Maciej Celuch</td>\n",
       "      <td>1500</td>\n",
       "      <td>2688</td>\n",
       "      <td>g7*e8e4c5f6j5i10h9g11g6f9h11h10d10d9c8b12f10g9...</td>\n",
       "      <td>white</td>\n",
       "    </tr>\n",
       "    <tr>\n",
       "      <th>5</th>\n",
       "      <td>1909790</td>\n",
       "      <td>Maciej Celuch</td>\n",
       "      <td>Yorge</td>\n",
       "      <td>2688</td>\n",
       "      <td>1520</td>\n",
       "      <td>h3*d5d3j9h6j4j11e9f8k6g11d8</td>\n",
       "      <td>black</td>\n",
       "    </tr>\n",
       "    <tr>\n",
       "      <th>6</th>\n",
       "      <td>1877598</td>\n",
       "      <td>zastrzyk</td>\n",
       "      <td>Maciej Celuch</td>\n",
       "      <td>1751</td>\n",
       "      <td>2688</td>\n",
       "      <td>a8*i5i10k10k11e9c11g10f8e6f9h8h9g9h7</td>\n",
       "      <td>white</td>\n",
       "    </tr>\n",
       "    <tr>\n",
       "      <th>7</th>\n",
       "      <td>1877596</td>\n",
       "      <td>Maciej Celuch</td>\n",
       "      <td>Peter Koning</td>\n",
       "      <td>2688</td>\n",
       "      <td>1694</td>\n",
       "      <td>a3</td>\n",
       "      <td>black</td>\n",
       "    </tr>\n",
       "    <tr>\n",
       "      <th>8</th>\n",
       "      <td>1877594</td>\n",
       "      <td>Daniel Sepczuk</td>\n",
       "      <td>Maciej Celuch</td>\n",
       "      <td>2386</td>\n",
       "      <td>2688</td>\n",
       "      <td>c12e4i5j4d5e9e5d3b3d4b6b4i4h8j9h7f7e10</td>\n",
       "      <td>white</td>\n",
       "    </tr>\n",
       "    <tr>\n",
       "      <th>9</th>\n",
       "      <td>1877591</td>\n",
       "      <td>Maciej Celuch</td>\n",
       "      <td>Szymon D</td>\n",
       "      <td>2688</td>\n",
       "      <td>1531</td>\n",
       "      <td>m4</td>\n",
       "      <td>black</td>\n",
       "    </tr>\n",
       "  </tbody>\n",
       "</table>\n",
       "</div>"
      ],
      "text/plain": [
       "       gid                  black          white  black_rating  white_rating  \\\n",
       "0  1939599             fastplayer  Maciej Celuch          1806          2688   \n",
       "1  1938419                MoHex3H  Maciej Celuch          1500          2688   \n",
       "2  1938296             fastplayer  Maciej Celuch          1806          2688   \n",
       "3  1938295  Jose Maria Grau Ribas  Maciej Celuch          2083          2688   \n",
       "4  1938291                MoHex3H  Maciej Celuch          1500          2688   \n",
       "5  1909790          Maciej Celuch          Yorge          2688          1520   \n",
       "6  1877598               zastrzyk  Maciej Celuch          1751          2688   \n",
       "7  1877596          Maciej Celuch   Peter Koning          2688          1694   \n",
       "8  1877594         Daniel Sepczuk  Maciej Celuch          2386          2688   \n",
       "9  1877591          Maciej Celuch       Szymon D          2688          1531   \n",
       "\n",
       "                                           move_list winner  \n",
       "0  g3*e9i10f7d12b12c11d11c12f11g12e12g5j4h7c9h3f5...  white  \n",
       "1  h12e4f4i5h6e9i7i6h7g5k5k4j4j5h5i3i4k2j2j3f7e6h...  white  \n",
       "2  g7*f7d10i8j11f8g6i5h4j3j4i4g8j6j5e10f11i6h9g10...  white  \n",
       "3  a4*c3i10f8j2k10k11i3e6g6f10e10f9e9d12e11e12f11...  white  \n",
       "4  g7*e8e4c5f6j5i10h9g11g6f9h11h10d10d9c8b12f10g9...  white  \n",
       "5                        h3*d5d3j9h6j4j11e9f8k6g11d8  black  \n",
       "6               a8*i5i10k10k11e9c11g10f8e6f9h8h9g9h7  white  \n",
       "7                                                 a3  black  \n",
       "8             c12e4i5j4d5e9e5d3b3d4b6b4i4h8j9h7f7e10  white  \n",
       "9                                                 m4  black  "
      ]
     },
     "execution_count": 6,
     "metadata": {},
     "output_type": "execute_result"
    }
   ],
   "source": [
    "data.head(10)"
   ]
  },
  {
   "cell_type": "code",
   "execution_count": 7,
   "metadata": {},
   "outputs": [],
   "source": [
    "moveLists = list(data['move_list'])\n",
    "winners = list(data['winner'])\n"
   ]
  },
  {
   "cell_type": "code",
   "execution_count": 8,
   "metadata": {},
   "outputs": [],
   "source": [
    "board_states_cumulative, winners_cumulative = makeInputOutputTotal(moveLists, winners)"
   ]
  },
  {
   "cell_type": "code",
   "execution_count": 9,
   "metadata": {},
   "outputs": [
    {
     "data": {
      "text/plain": [
       "array([[0, 0, 0, 0, 0, 0, 0, 0, 0, 0, 0, 0, 0],\n",
       "       [0, 0, 0, 0, 0, 0, 0, 0, 0, 0, 0, 0, 0],\n",
       "       [0, 0, 0, 0, 0, 0, 0, 0, 0, 0, 0, 0, 0],\n",
       "       [0, 0, 0, 0, 0, 0, 0, 0, 0, 0, 0, 0, 0],\n",
       "       [0, 0, 0, 0, 0, 0, 0, 0, 0, 0, 0, 0, 0],\n",
       "       [0, 0, 0, 0, 0, 0, 0, 0, 0, 0, 0, 0, 0],\n",
       "       [0, 0, 2, 0, 0, 0, 0, 0, 0, 0, 0, 0, 0],\n",
       "       [0, 0, 0, 0, 0, 0, 0, 0, 0, 0, 0, 0, 0],\n",
       "       [0, 0, 0, 0, 0, 0, 0, 0, 0, 0, 0, 0, 0],\n",
       "       [0, 0, 0, 0, 0, 0, 0, 0, 0, 0, 0, 0, 0],\n",
       "       [0, 0, 0, 0, 0, 0, 0, 0, 0, 0, 0, 0, 0],\n",
       "       [0, 0, 0, 0, 0, 0, 0, 0, 0, 0, 0, 0, 0],\n",
       "       [0, 0, 0, 0, 0, 0, 0, 0, 0, 0, 0, 0, 0]], dtype=int8)"
      ]
     },
     "execution_count": 9,
     "metadata": {},
     "output_type": "execute_result"
    }
   ],
   "source": [
    "board_states_cumulative[0]"
   ]
  },
  {
   "cell_type": "code",
   "execution_count": 10,
   "metadata": {},
   "outputs": [
    {
     "data": {
      "text/plain": [
       "[0, 1]"
      ]
     },
     "execution_count": 10,
     "metadata": {},
     "output_type": "execute_result"
    }
   ],
   "source": [
    "winners_cumulative[0]"
   ]
  },
  {
   "cell_type": "code",
   "execution_count": 11,
   "metadata": {},
   "outputs": [],
   "source": [
    "from sklearn.model_selection import train_test_split\n",
    "X_train, X_test, y_train, y_test = train_test_split(board_states_cumulative, winners_cumulative, test_size = 0.2)"
   ]
  },
  {
   "cell_type": "code",
   "execution_count": 12,
   "metadata": {},
   "outputs": [],
   "source": [
    "X_train = [X.reshape(13,13,1) for X in X_train]\n",
    "X_test = [X.reshape(13,13,1) for X in X_test]"
   ]
  },
  {
   "cell_type": "code",
   "execution_count": 13,
   "metadata": {},
   "outputs": [],
   "source": [
    "regularizationParam = 0.01\n",
    "model = tf.keras.Sequential([\n",
    "    layers.Conv2D(256, kernel_size=(3, 3), strides=(1, 1),\n",
    "                  kernel_regularizer=regularizers.l2(regularizationParam),\n",
    "                  padding='same',\n",
    "                  activation='linear',\n",
    "                  input_shape=(13, 13, 1)),\n",
    "    layers.BatchNormalization(axis=1, momentum=0.99, epsilon=0.001),\n",
    "    layers.LeakyReLU(alpha=0.3),\n",
    "    layers.MaxPool2D(pool_size=(2,2), strides=(2,2)),\n",
    "    layers.Conv2D(64, (3, 3),\n",
    "                  padding='same',\n",
    "                  activation='relu',\n",
    "                  kernel_regularizer=regularizers.l2(regularizationParam)),\n",
    "    layers.Conv2D(64, (3, 3),\n",
    "                  padding='same',\n",
    "                  activation='relu',\n",
    "                  kernel_regularizer=regularizers.l2(regularizationParam)),\n",
    "    layers.MaxPool2D(pool_size=(2, 2)),\n",
    "    layers.Flatten(),\n",
    "    layers.Dense(128, activation='relu',kernel_regularizer=regularizers.l2(regularizationParam)),\n",
    "    layers.Dense(50, activation='tanh',kernel_regularizer=regularizers.l2(regularizationParam)),\n",
    "    layers.Dense(2, activation='softmax',kernel_regularizer=regularizers.l2(regularizationParam))\n",
    "])\n",
    "\n",
    "model.compile(loss=tf.keras.losses.categorical_crossentropy,\n",
    "              optimizer=tf.keras.optimizers.Adam(),\n",
    "              metrics=['accuracy'])"
   ]
  },
  {
   "cell_type": "code",
   "execution_count": 14,
   "metadata": {},
   "outputs": [
    {
     "data": {
      "text/plain": [
       "1145668"
      ]
     },
     "execution_count": 14,
     "metadata": {},
     "output_type": "execute_result"
    }
   ],
   "source": [
    "len(X_train)"
   ]
  },
  {
   "cell_type": "code",
   "execution_count": null,
   "metadata": {},
   "outputs": [
    {
     "name": "stdout",
     "output_type": "stream",
     "text": [
      "Epoch 1/3\n",
      "1000/1000 [==============================] - 4s 4ms/step - loss: 4.5716 - acc: 0.4940\n",
      "Epoch 2/3\n",
      "1000/1000 [==============================] - 3s 3ms/step - loss: 3.0811 - acc: 0.4840\n",
      "Epoch 3/3\n",
      "1000/1000 [==============================] - 3s 3ms/step - loss: 2.2703 - acc: 0.5070\n",
      "Epoch 1/3\n",
      "1000/1000 [==============================] - 3s 3ms/step - loss: 1.8088 - acc: 0.4960\n",
      "Epoch 2/3\n",
      "1000/1000 [==============================] - 3s 3ms/step - loss: 1.5236 - acc: 0.4640\n",
      "Epoch 3/3\n",
      "1000/1000 [==============================] - 3s 3ms/step - loss: 1.3292 - acc: 0.4840\n",
      "Epoch 1/3\n",
      "1000/1000 [==============================] - 3s 3ms/step - loss: 1.1899 - acc: 0.4890\n",
      "Epoch 2/3\n",
      "1000/1000 [==============================] - 3s 3ms/step - loss: 1.0871 - acc: 0.5080\n",
      "Epoch 3/3\n",
      "1000/1000 [==============================] - 3s 3ms/step - loss: 1.0243 - acc: 0.4800\n",
      "Epoch 1/3\n",
      "1000/1000 [==============================] - 3s 3ms/step - loss: 0.9710 - acc: 0.4860\n",
      "Epoch 2/3\n",
      "1000/1000 [==============================] - 3s 3ms/step - loss: 0.9222 - acc: 0.5100\n",
      "Epoch 3/3\n",
      "1000/1000 [==============================] - 3s 3ms/step - loss: 0.8916 - acc: 0.5280\n",
      "Epoch 1/3\n",
      "1000/1000 [==============================] - 3s 3ms/step - loss: 0.8650 - acc: 0.4860\n",
      "Epoch 2/3\n",
      "1000/1000 [==============================] - 3s 3ms/step - loss: 0.8425 - acc: 0.4920\n",
      "Epoch 3/3\n",
      "1000/1000 [==============================] - 3s 3ms/step - loss: 0.8235 - acc: 0.5020\n",
      "Epoch 1/3\n",
      "1000/1000 [==============================] - 3s 3ms/step - loss: 0.8219 - acc: 0.5290\n",
      "Epoch 2/3\n",
      "1000/1000 [==============================] - 3s 3ms/step - loss: 0.7998 - acc: 0.5130\n",
      "Epoch 3/3\n",
      "1000/1000 [==============================] - 3s 3ms/step - loss: 0.7897 - acc: 0.4830\n",
      "Epoch 1/3\n",
      " 544/1000 [===============>..............] - ETA: 1s - loss: 0.7838 - acc: 0.4761"
     ]
    }
   ],
   "source": [
    "for _ in range(10):\n",
    "    inds = list(range(1145668))\n",
    "    np.random.shuffle(inds)\n",
    "    x_train_tmp = [X_train[i] for i in inds[:1000]]\n",
    "    y_train_tmp = [y_train[i] for i in inds[:1000]]\n",
    "    model.fit(np.array(x_train_tmp), np.array(y_train_tmp), verbose=1, epochs=3)#, steps_per_epoch=3) more samples less epochs"
   ]
  },
  {
   "cell_type": "code",
   "execution_count": null,
   "metadata": {},
   "outputs": [
    {
     "name": "stdout",
     "output_type": "stream",
     "text": [
      "Epoch 1/1\n",
      "  10873/1585914 [..............................] - ETA: 4:04:59 - loss: 3.2781e-04 - acc: 0.9999"
     ]
    }
   ],
   "source": [
    "#model.fit(np.array(X_train), np.array(y_train), verbose=1, epochs=1, batch_size=1)"
   ]
  },
  {
   "cell_type": "code",
   "execution_count": 18,
   "metadata": {},
   "outputs": [
    {
     "name": "stdout",
     "output_type": "stream",
     "text": [
      "1000/1000 [==============================] - 2s 2ms/step\n",
      "\n",
      "acc: 54.10%\n"
     ]
    }
   ],
   "source": [
    "scores = model.evaluate(np.array(X_test[:1000]), np.array(y_test[:1000]))\n",
    "\n",
    "print(\"\\n%s: %.2f%%\" % (model.metrics_names[1], scores[1]*100))"
   ]
  },
  {
   "cell_type": "code",
   "execution_count": 177,
   "metadata": {},
   "outputs": [
    {
     "data": {
      "text/plain": [
       "286417"
      ]
     },
     "execution_count": 177,
     "metadata": {},
     "output_type": "execute_result"
    }
   ],
   "source": [
    "len(y_test)"
   ]
  },
  {
   "cell_type": "code",
   "execution_count": 178,
   "metadata": {},
   "outputs": [
    {
     "data": {
      "text/plain": [
       "1145668"
      ]
     },
     "execution_count": 178,
     "metadata": {},
     "output_type": "execute_result"
    }
   ],
   "source": [
    "len(X_test)"
   ]
  },
  {
   "cell_type": "code",
   "execution_count": null,
   "metadata": {},
   "outputs": [],
   "source": []
  }
 ],
 "metadata": {
  "kernelspec": {
   "display_name": "Python 3",
   "language": "python",
   "name": "python3"
  },
  "language_info": {
   "codemirror_mode": {
    "name": "ipython",
    "version": 3
   },
   "file_extension": ".py",
   "mimetype": "text/x-python",
   "name": "python",
   "nbconvert_exporter": "python",
   "pygments_lexer": "ipython3",
   "version": "3.6.5"
  }
 },
 "nbformat": 4,
 "nbformat_minor": 2
}
