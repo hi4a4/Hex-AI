{
 "cells": [
  {
   "cell_type": "markdown",
   "metadata": {},
   "source": [
    "# Imports"
   ]
  },
  {
   "cell_type": "code",
   "execution_count": 1,
   "metadata": {},
   "outputs": [],
   "source": [
    "from requests import get\n",
    "from requests.exceptions import RequestException\n",
    "from contextlib import closing\n",
    "from bs4 import BeautifulSoup"
   ]
  },
  {
   "cell_type": "markdown",
   "metadata": {},
   "source": [
    "# Web Requests"
   ]
  },
  {
   "cell_type": "code",
   "execution_count": 2,
   "metadata": {},
   "outputs": [],
   "source": [
    "def simple_get(url):\n",
    "    \"\"\"\n",
    "    Attempts to get the content at `url` by making an HTTP GET request.\n",
    "    If the content-type of response is some kind of HTML/XML, return the\n",
    "    text content, otherwise return None.\n",
    "    \"\"\"\n",
    "    try:\n",
    "        with closing(get(url, stream=True)) as resp:\n",
    "            if is_good_response(resp):\n",
    "                return resp.content\n",
    "            else:\n",
    "                return None\n",
    "\n",
    "    except RequestException as e:\n",
    "        log_error('Error during requests to {0} : {1}'.format(url, str(e)))\n",
    "        return None\n",
    "\n",
    "\n",
    "def is_good_response(resp):\n",
    "    \"\"\"\n",
    "    Returns True if the response seems to be HTML, False otherwise.\n",
    "    \"\"\"\n",
    "    content_type = resp.headers['Content-Type'].lower()\n",
    "    return (resp.status_code == 200 \n",
    "            and content_type is not None \n",
    "            and content_type.find('html') > -1)\n",
    "\n",
    "\n",
    "def log_error(e):\n",
    "    \"\"\"\n",
    "    It is always a good idea to log errors. \n",
    "    This function just prints them, but you can\n",
    "    make it do anything.\n",
    "    \"\"\"\n",
    "    print(e)"
   ]
  },
  {
   "cell_type": "markdown",
   "metadata": {},
   "source": [
    "# Get a user's list of games"
   ]
  },
  {
   "cell_type": "code",
   "execution_count": 3,
   "metadata": {},
   "outputs": [],
   "source": [
    "def getGamesPlayedForUser(userPageURL):\n",
    "    html_res = BeautifulSoup(\n",
    "        simple_get(userPageURL),\n",
    "        'html.parser'\n",
    "    )\n",
    "    listOfGameIds = []\n",
    "    for link in html_res.select('a'):\n",
    "      if ('href' in link.attrs and '/jsp/game/game' in link['href']):\n",
    "        listOfGameIds.append(link.text[1:])\n",
    "    return listOfGameIds"
   ]
  },
  {
   "cell_type": "code",
   "execution_count": 4,
   "metadata": {},
   "outputs": [],
   "source": [
    "listOfGameIds = getGamesPlayedForUser('http://littlegolem.net/jsp/info/player_game_list.jsp?gtid=hex&plid=6398')"
   ]
  },
  {
   "cell_type": "code",
   "execution_count": 5,
   "metadata": {},
   "outputs": [
    {
     "data": {
      "text/plain": [
       "699"
      ]
     },
     "execution_count": 5,
     "metadata": {},
     "output_type": "execute_result"
    }
   ],
   "source": [
    "len(listOfGameIds)"
   ]
  },
  {
   "cell_type": "code",
   "execution_count": 6,
   "metadata": {},
   "outputs": [
    {
     "name": "stdout",
     "output_type": "stream",
     "text": [
      "['1939599', '1938419', '1938296', '1938295', '1938291', '1909790', '1891227', '1877598', '1877596', '1877594', '1877591', '1877587', '1877582', '1877576', '1872780', '1872777', '1861986', '1861985', '1861983', '1861980', '1857774', '1857587', '1855032', '1853841', '1848510', '1845725', '1845724', '1845722', '1845719', '1845715', '1845710', '1818421', '1818420', '1818417', '1818414', '1818410', '1818405', '1818399', '1818392', '1818384', '1789641', '1789639', '1789637', '1789634', '1789630', '1789625', '1789619', '1789612', '1789604', '1789595', '1779168', '1779167', '1779165', '1779162', '1779158', '1779153', '1779147', '1779140', '1771502', '1771501', '1771499', '1771496', '1771492', '1766157', '1766156', '1766153', '1766150', '1766146', '1766141', '1766135', '1766128', '1766120', '1685379', '1676448', '1653132', '1653131', '1651327', '1651326', '1651325', '1651324', '1651323', '1651322', '1651321', '1651320', '1629121', '1629120', '1629119', '1629118', '1621951', '1619428', '1612715', '1612714', '1612713', '1612712', '1612711', '1612710', '1612709', '1612708', '1612707', '1611093', '1607498', '1607493', '1607492', '1607490', '1607487', '1597842', '1597841', '1597840', '1597839', '1597838', '1597837', '1565252', '1565251', '1565250', '1565249', '1565248', '1565247', '1565246', '1565245', '1562743', '1562742', '1562741', '1562737', '1559804', '1559803', '1559802', '1559798', '1524721', '1512952', '1512951', '1512950', '1512949', '1512948', '1512947', '1512946', '1512945', '1512944', '1512021', '1501773', '1494485', '1475381', '1475380', '1454767', '1454766', '1453865', '1420249', '1420248', '1420247', '1420243', '1420192', '1420191', '1420190', '1420189', '1420188', '1343678', '1343677', '1343676', '1343675', '1343674', '1343673', '1343672', '1343671', '1321495', '1319827', '1319684', '1319683', '1319682', '1319681', '1297795', '1279776', '1279775', '1279774', '1279773', '1279772', '1268023', '1261438', '1261437', '1254910', '1254909', '1254907', '1254904', '1230695', '1230694', '1225967', '1213865', '1203734', '1203732', '1203730', '1203727', '1200919', '1156703', '1139809', '1139808', '1139807', '1139806', '1139805', '1139804', '1139803', '1139802', '1129306', '1129303', '1129298', '1129130', '1126542', '1124004', '1124003', '1112783', '1102266', '1048451', '1022688', '1022687', '1022686', '1022685', '1022684', '1022683', '1022682', '1022681', '1022680', '1017225', '1017223', '1008736', '1006547', '1000859', '1000858', '996540', '980504', '963990', '963989', '963988', '963987', '963986', '963985', '963984', '963983', '959708', '959707', '959705', '947823', '941785', '903250', '903249', '903248', '903247', '903246', '903245', '903244', '903243', '884723', '852238', '852237', '852236', '852235', '852234', '852233', '852232', '852231', '828947', '817683', '806186', '792889', '792888', '792887', '792886', '792885', '792884', '792883', '792882', '789344', '789342', '789340', '788845', '787387', '783698', '775939', '775938', '762771', '756666', '754042', '754041', '732620', '732619', '732618', '732617', '732616', '732615', '732614', '732613', '723968', '714793', '714792', '714791', '714787', '668115', '668114', '668113', '668112', '668111', '668110', '668109', '668108', '668107', '655435', '655434', '650553', '615924', '606544', '604464', '604463', '589749', '589748', '589747', '589746', '589745', '589744', '589743', '589742', '587157', '566246', '566245', '566244', '566240', '563803', '520982', '520981', '520980', '520979', '520978', '520977', '520976', '520975', '518008', '518007', '518005', '515137', '515136', '495474', '489829', '489828', '489307', '466471', '466470', '466469', '459620', '459619', '459618', '459617', '459616', '459615', '459614', '459613', '453414', '453413', '453412', '453411', '446989', '446988', '446987', '446986', '446985', '446984', '446983', '446982', '446981', '446980', '446979', '446978', '446977', '443478', '443477', '443476', '443475', '443463', '443462', '443459', '442164', '442163', '440324', '440323', '440321', '440318', '437010', '437009', '437008', '437007', '435776', '435775', '421411', '421410', '421408', '421405', '419710', '419709', '419707', '419704', '417402', '417401', '417398', '417395', '410815', '410813', '410811', '408065', '405160', '405158', '405156', '405153', '404874', '404873', '404872', '404871', '396749', '396748', '396747', '396746', '394692', '394691', '394690', '394689', '393203', '393202', '393201', '393200', '391395', '391394', '391393', '391392', '391391', '391390', '391389', '391388', '389052', '389051', '389050', '389049', '381730', '381729', '381728', '381727', '381726', '381725', '377504', '373638', '373637', '373635', '373283', '373281', '373279', '373276', '372777', '372776', '372775', '372771', '369561', '369560', '367431', '367430', '367429', '367428', '363811', '363809', '363807', '363804', '355011', '355010', '355007', '355004', '351751', '351750', '351749', '351748', '351747', '351746', '339630', '339629', '336379', '336281', '335748', '335747', '335746', '335745', '329373', '329372', '329371', '329370', '329369', '329368', '329367', '329366', '326910', '326909', '326907', '326904', '311097', '311096', '302883', '302882', '302879', '302876', '302872', '302867', '302781', '302780', '302779', '302778', '302777', '300397', '300396', '300395', '300394', '299081', '299080', '299079', '299078', '299077', '299071', '279917', '279916', '279914', '276332', '268337', '268336', '268333', '268330', '268326', '268321', '267132', '266385', '266300', '266287', '266213', '266212', '265493', '265485', '265471', '265465', '262396', '262395', '262394', '262393', '262392', '262391', '262390', '262389', '262388', '262378', '262368', '253378', '253377', '253375', '253372', '249950', '249949', '249947', '245040', '245039', '245038', '245028', '245026', '245024', '245021', '243827', '243825', '243823', '239723', '235915', '235751', '235637', '235636', '235633', '235608', '235606', '235604', '235601', '235524', '235524', '235523', '235378', '234799', '234798', '234796', '234793', '234764', '234763', '234760', '234757', '234753', '234439', '234438', '234436', '234433', '234432', '234430', '234427', '228967', '228965', '228963', '228960', '226012', '226011', '226010', '226009', '222771', '222769', '222767', '222764', '221438', '221436', '221434', '221174', '221173', '221172', '221171', '220397', '220396', '220394', '219782', '219780', '219778', '219304', '219303', '219302', '219298', '218584', '218583', '218581', '214767', '214765', '214763', '214748', '214747', '214746', '214742', '211256', '211255', '211253', '211250', '208940', '208938', '208936', '207724', '207723', '207720', '207717', '206512', '206511', '206510', '206509', '206508', '206507', '206506', '205582', '205581', '205578', '205341', '205339', '205337', '205334', '203798', '203797', '203794', '202382', '202381', '202380', '202376', '201796', '201795', '201794', '201790', '200769', '200768', '200767', '200763', '200341', '200340', '200338', '200304', '200302', '200300', '200297', '200142', '200140', '200138', '195948', '195947', '195945', '195942', '192423', '192422', '192419', '189470', '189469', '189467', '187534', '187526', '187524', '187522', '187519', '186927', '186908']\n"
     ]
    }
   ],
   "source": [
    "print(listOfGameIds)"
   ]
  },
  {
   "cell_type": "markdown",
   "metadata": {},
   "source": [
    "# Get Information For A Single Game ID"
   ]
  },
  {
   "cell_type": "code",
   "execution_count": 28,
   "metadata": {},
   "outputs": [],
   "source": [
    "def getGameInfo(gameID):\n",
    "    '''\n",
    "    Input (string): game id ex 2002849\n",
    "    Output (list): gid,black,white,black_rating,white_rating,move_list,winner\n",
    "    '''\n",
    "    # List to be returned\n",
    "    returnArray = []\n",
    "    # Append gameID\n",
    "    returnArray.append(gameID)\n",
    "    # Request game html\n",
    "    html_res = BeautifulSoup(\n",
    "        simple_get('http://littlegolem.net/jsp/game/game.jsp?gid='+gameID),\n",
    "        'html.parser'\n",
    "    )\n",
    "    # Dummy variables\n",
    "    count = 0\n",
    "    winner = ''\n",
    "    moveString = ''\n",
    "    # Get list of moves\n",
    "    \n",
    "    for gametype in html_res.select('h3'):\n",
    "        a = list(gametype)[0]\n",
    "        if a != '\\r\\n\\t\\t\\tHex-Size 13\\r\\n\\t\\t\\t:: #'+str(gameID)+'\\r\\n\\t\\t\\t':\n",
    "            return []\n",
    "    \n",
    "    for div in html_res.select('div'):\n",
    "        if('portlet-body' in div['class']):\n",
    "          count += 1\n",
    "          if (count > 3):\n",
    "            moveList = div.text.split()\n",
    "    # Loop through moves making move_list and keep track of winner\n",
    "    count = 0\n",
    "    for move in moveList:\n",
    "        count+=1\n",
    "        moveText = move.split('.')[-1]\n",
    "        if (moveText == \"swap\"):\n",
    "            moveText = '*'\n",
    "        if (moveText == 'resign'):\n",
    "            count+=1\n",
    "            break\n",
    "        moveString = moveString + moveText\n",
    "    # Decide which is winner based on number of moves\n",
    "    winner = 'white' if (count)%2 == 0 else 'black'\n",
    "    # Dummy rank because want to store both names next to each other\n",
    "    pastRank = ''\n",
    "    # Find name and rank info\n",
    "    for div in html_res.select('div'):\n",
    "        if ('col-xs-6' in div['class']):\n",
    "            playerInfo = div.text.split('\\n')\n",
    "            playerName = playerInfo[1]\n",
    "            playerInfo = div.text.split()\n",
    "            playerRank = playerInfo[-1]\n",
    "            returnArray.append(playerName)\n",
    "            if pastRank != '':\n",
    "                 returnArray.append(pastRank)\n",
    "            pastRank = playerRank\n",
    "    # Append all info\n",
    "    returnArray.append(pastRank)\n",
    "    returnArray.append(moveString)\n",
    "    returnArray.append(winner)\n",
    "    return returnArray"
   ]
  },
  {
   "cell_type": "code",
   "execution_count": 29,
   "metadata": {},
   "outputs": [
    {
     "data": {
      "text/plain": [
       "['1939599',\n",
       " 'fastplayer',\n",
       " 'Maciej Celuch',\n",
       " '1806',\n",
       " '2688',\n",
       " 'g3*e9i10f7d12b12c11d11c12f11g12e12g5j4h7c9h3f5f6h6g7g6e10b11c10b10d8d7c8f9j2e7e5b7c6d5e4k2j3k3i5l5j5k5j6l8k9l9k8k7h10h9i8j8i9h5i4g4g3f3h4d6d4j11l7a5c5a9b6m6m7e6f4j9j10a3a7i7j7',\n",
       " 'white']"
      ]
     },
     "execution_count": 29,
     "metadata": {},
     "output_type": "execute_result"
    }
   ],
   "source": [
    "#output for a full completed game\n",
    "getGameInfo('1939599')"
   ]
  },
  {
   "cell_type": "code",
   "execution_count": 31,
   "metadata": {},
   "outputs": [
    {
     "data": {
      "text/plain": [
       "['1994280',\n",
       " 'gzero_bot',\n",
       " 'fastplayer',\n",
       " '2067',\n",
       " '1806',\n",
       " 'f3*d10c12c10b12e11d13d12c13f12e10d11f11e12f8e7d9j6i9k7j11e9e8k11g9j9j2c9d8i5k10i11i4l2i10j10j5d7j4k5l3k3k4c8g3d5f2c3d6e5d4c5c4g2e6b6e2f3f4g5h3i3h4e4b7f5f6g6f7g8h6g7f9j8h12h8i12l10g11h11g12g10f10l9j13l12k9l8k8l7k12i13j12l11l13k13g1h1',\n",
       " 'black']"
      ]
     },
     "execution_count": 31,
     "metadata": {},
     "output_type": "execute_result"
    }
   ],
   "source": [
    "#output for a started but resigned game\n",
    "getGameInfo('1994280')"
   ]
  },
  {
   "cell_type": "code",
   "execution_count": 33,
   "metadata": {},
   "outputs": [
    {
     "data": {
      "text/plain": [
       "['1877576', 'Marcin Pindral', 'Maciej Celuch', '1713', '2688', '', 'white']"
      ]
     },
     "execution_count": 33,
     "metadata": {},
     "output_type": "execute_result"
    }
   ],
   "source": [
    "#output for a game with zero plays\n",
    "getGameInfo('1877576')"
   ]
  },
  {
   "cell_type": "code",
   "execution_count": 35,
   "metadata": {},
   "outputs": [
    {
     "data": {
      "text/plain": [
       "[]"
      ]
     },
     "execution_count": 35,
     "metadata": {},
     "output_type": "execute_result"
    }
   ],
   "source": [
    "#output for a game that isn't on a size 13 board\n",
    "getGameInfo('1891227')"
   ]
  },
  {
   "cell_type": "code",
   "execution_count": null,
   "metadata": {},
   "outputs": [],
   "source": []
  }
 ],
 "metadata": {
  "kernelspec": {
   "display_name": "Python 3",
   "language": "python",
   "name": "python3"
  },
  "language_info": {
   "codemirror_mode": {
    "name": "ipython",
    "version": 3
   },
   "file_extension": ".py",
   "mimetype": "text/x-python",
   "name": "python",
   "nbconvert_exporter": "python",
   "pygments_lexer": "ipython3",
   "version": "3.6.5"
  }
 },
 "nbformat": 4,
 "nbformat_minor": 2
}
